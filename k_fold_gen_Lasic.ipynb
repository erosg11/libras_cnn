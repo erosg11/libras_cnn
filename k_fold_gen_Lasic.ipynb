{
 "cells": [
  {
   "cell_type": "code",
   "execution_count": 5,
   "metadata": {},
   "outputs": [],
   "source": [
    "from sklearn.model_selection import StratifiedKFold\n",
    "import numpy as np\n",
    "import cv2\n",
    "import os"
   ]
  },
  {
   "cell_type": "code",
   "execution_count": 6,
   "metadata": {},
   "outputs": [
    {
     "name": "stdout",
     "output_type": "stream",
     "text": [
      "{'1': 0, '2': 1, '4': 2, '5': 3, '7': 4, '9': 5, 'A': 6, 'Adulto': 7, 'America': 8, 'Aviao': 9, 'B': 10, 'C': 11, 'Casa': 12, 'D': 13, 'E': 14, 'F': 15, 'G': 16, 'Gasolina': 17, 'I': 18, 'Identidade': 19, 'Junto': 20, 'L': 21, 'Lei': 22, 'M': 23, 'N': 24, 'O': 25, 'P': 26, 'Palavra': 27, 'Pedra': 28, 'Pequeno': 29, 'Q': 30, 'R': 31, 'S': 32, 'T': 33, 'U': 34, 'V': 35, 'Verbo': 36, 'W': 37, 'X': 38, 'Y': 39}\n",
      "4800\n"
     ]
    }
   ],
   "source": [
    "imagepaths = []\n",
    "categories_set = set()\n",
    "for root, dirs, files in os.walk(\"Folds_Dataset_Final\", topdown=False): \n",
    "    for name in files:\n",
    "        path = os.path.join(root, name)\n",
    "        if name.startswith('c'):\n",
    "            continue\n",
    "        if path.endswith(\"PNG\"): # We want only the images\n",
    "            imagepaths.append(path)\n",
    "            categories_set.add(os.path.split(root)[1])\n",
    "categories_list = list(sorted(categories_set))\n",
    "\n",
    "categories = dict(zip(categories_list, range(len(categories_list))))\n",
    "print(categories)\n",
    "\n",
    "print(len(imagepaths))"
   ]
  },
  {
   "cell_type": "code",
   "execution_count": 8,
   "metadata": {},
   "outputs": [
    {
     "data": {
      "text/plain": [
       "((4800, 50, 50, 1), (4800,))"
      ]
     },
     "execution_count": 8,
     "metadata": {},
     "output_type": "execute_result"
    }
   ],
   "source": [
    "X = []\n",
    "y = []\n",
    "for path in imagepaths:\n",
    "    img = cv2.imread(path) # Reads image and returns np.array\n",
    "    img = cv2.cvtColor(img, cv2.COLOR_BGR2GRAY) # Converts into the corret colorspace (GRAY)\n",
    "    # img = cv2.resize(img, (320, 120)) # Reduce image size so training can be faster\n",
    "    X.append(img)\n",
    "\n",
    "    # Processing label in image path\n",
    "    category = os.path.split(os.path.split(path)[0])[1]\n",
    "    label = categories[category]\n",
    "    y.append(label)\n",
    "\n",
    "# Turn X and y into np.array to speed up train_test_split\n",
    "X = np.array(X, dtype=\"uint8\")\n",
    "X = X.reshape(len(imagepaths), 50, 50, 1) # Needed to reshape so CNN knows it's different images\n",
    "y = np.array(y)\n",
    "X.shape, y.shape"
   ]
  },
  {
   "cell_type": "code",
   "execution_count": 9,
   "metadata": {},
   "outputs": [],
   "source": [
    "np.save(\"raw_X_Lasic.npy\", X)\n",
    "np.save(\"raw_y_Lasic.npy\", y)"
   ]
  },
  {
   "cell_type": "code",
   "execution_count": 10,
   "metadata": {},
   "outputs": [],
   "source": [
    "seed = 1234"
   ]
  },
  {
   "cell_type": "code",
   "execution_count": 11,
   "metadata": {},
   "outputs": [],
   "source": [
    "kfold = StratifiedKFold(n_splits=10, shuffle=True, random_state=seed)"
   ]
  },
  {
   "cell_type": "code",
   "execution_count": 15,
   "metadata": {},
   "outputs": [],
   "source": [
    "for i, (train, test) in enumerate(kfold.split(X, y), 1):\n",
    "    np.save(f\"lasic_data/X_{i:02d}_Lasic.npy\", X)\n",
    "    np.save(f\"lasic_data/y_{i:02d}_Lasic.npy\", y)"
   ]
  },
  {
   "cell_type": "code",
   "execution_count": null,
   "metadata": {},
   "outputs": [],
   "source": []
  }
 ],
 "metadata": {
  "kernelspec": {
   "display_name": "Python 3",
   "language": "python",
   "name": "python3"
  },
  "language_info": {
   "codemirror_mode": {
    "name": "ipython",
    "version": 3
   },
   "file_extension": ".py",
   "mimetype": "text/x-python",
   "name": "python",
   "nbconvert_exporter": "python",
   "pygments_lexer": "ipython3",
   "version": "3.7.5"
  }
 },
 "nbformat": 4,
 "nbformat_minor": 4
}
