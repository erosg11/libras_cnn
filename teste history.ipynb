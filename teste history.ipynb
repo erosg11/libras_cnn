{
 "cells": [
  {
   "cell_type": "code",
   "execution_count": 16,
   "metadata": {},
   "outputs": [],
   "source": [
    "import numpy as np\n",
    "import pandas as pd\n",
    "from keras.applications.vgg19 import VGG19\n",
    "from keras.applications.resnet import ResNet50\n",
    "from keras.applications.inception_v3 import InceptionV3\n",
    "from glob import glob\n",
    "from keras.layers import Dense, Dropout, Flatten, Conv2D, MaxPool2D, GlobalAveragePooling2D, MaxPooling2D\n",
    "from keras.models import Sequential, Model, load_model\n",
    "from os.path import join\n",
    "from json import dump, load, dumps\n",
    "from multiprocessing import Process"
   ]
  },
  {
   "cell_type": "code",
   "execution_count": 2,
   "metadata": {},
   "outputs": [],
   "source": [
    "def gen_lenet(img_height, img_width, num_classes):\n",
    "    model = Sequential()\n",
    "    model.add(Conv2D(32, (5, 5), activation='relu', input_shape=(img_height, img_width, 1)))\n",
    "    model.add(MaxPooling2D((2, 2)))\n",
    "    model.add(Conv2D(64, (3, 3), activation='relu'))\n",
    "    model.add(MaxPooling2D((2, 2)))\n",
    "    model.add(Conv2D(64, (3, 3), activation='relu'))\n",
    "    model.add(MaxPooling2D((2, 2)))\n",
    "    model.add(Conv2D(64, (3, 3), activation='relu'))\n",
    "    model.add(MaxPooling2D((2, 2)))\n",
    "    model.add(Flatten())\n",
    "    model.add(Dense(128, activation='relu'))\n",
    "    model.add(Dropout(0.1))\n",
    "    model.add(Dense(128, activation='relu'))\n",
    "    model.add(Dropout(0.1))\n",
    "    model.add(Dense(num_classes, activation='softmax'))\n",
    "    return model"
   ]
  },
  {
   "cell_type": "code",
   "execution_count": 25,
   "metadata": {},
   "outputs": [],
   "source": [
    "def run_model(name, img_size, num_classes, results, i, X_train, y_train, X_test, y_test):\n",
    "    model = gen_lenet(*img_size, num_classes)\n",
    "    model.compile(optimizer='adam',\n",
    "                  # Optimization routine, which tells the computer how to adjust the parameter values to minimize the loss function.\n",
    "                  loss='sparse_categorical_crossentropy',  # Loss function, which tells us how bad our predictions are.\n",
    "                  metrics=['accuracy'])  # List of metrics to be evaluated by the model during training and testing.\n",
    "    history = model.fit(X_train, y_train, epochs=3, batch_size=64, verbose=2, validation_data=(X_test, y_test))\n",
    "    print(\"Evaluating\")\n",
    "    return history"
   ]
  },
  {
   "cell_type": "code",
   "execution_count": 26,
   "metadata": {},
   "outputs": [
    {
     "name": "stdout",
     "output_type": "stream",
     "text": [
      "Train on 4320 samples, validate on 480 samples\n",
      "Epoch 1/3\n",
      " - 1s - loss: 2.8990 - accuracy: 0.2491 - val_loss: 0.8943 - val_accuracy: 0.7521\n",
      "Epoch 2/3\n",
      " - 0s - loss: 0.6209 - accuracy: 0.8065 - val_loss: 0.2268 - val_accuracy: 0.9458\n",
      "Epoch 3/3\n",
      " - 0s - loss: 0.2205 - accuracy: 0.9310 - val_loss: 0.1247 - val_accuracy: 0.9729\n",
      "Evaluating\n"
     ]
    }
   ],
   "source": [
    "X = np.load('raw_X_Lasic.npy')\n",
    "y = np.load('raw_y_Lasic.npy')\n",
    "img_size = X.shape[1], X.shape[2]\n",
    "num_classes = len(np.unique(y))\n",
    "train_file = sorted(glob('Lasic_K_Fold/train_Lasic*'))[0]\n",
    "test_file = sorted(glob('Lasic_K_Fold/test_Lasic*'))[0]\n",
    "train = np.load(train_file)\n",
    "test = np.load(test_file)\n",
    "history = run_model('teste 1', img_size, num_classes, {}, -1, X[train], y[train], X[test], y[test])"
   ]
  },
  {
   "cell_type": "code",
   "execution_count": 27,
   "metadata": {},
   "outputs": [
    {
     "data": {
      "text/plain": [
       "'{\"val_loss\": [0.8942716439565023, 0.22681147654851277, 0.12466052820285162], \"val_accuracy\": [0.7520833611488342, 0.9458333253860474, 0.9729166626930237], \"loss\": [2.8990403758154977, 0.620852119172061, 0.22045409166150623], \"accuracy\": [0.2490740716457367, 0.8064814805984497, 0.9310185313224792]}'"
      ]
     },
     "execution_count": 27,
     "metadata": {},
     "output_type": "execute_result"
    }
   ],
   "source": [
    "dumps({k: np.array(v).tolist() for k, v in history.history.items()})"
   ]
  },
  {
   "cell_type": "code",
   "execution_count": null,
   "metadata": {},
   "outputs": [],
   "source": []
  }
 ],
 "metadata": {
  "kernelspec": {
   "display_name": "Python 3",
   "language": "python",
   "name": "python3"
  },
  "language_info": {
   "codemirror_mode": {
    "name": "ipython",
    "version": 3
   },
   "file_extension": ".py",
   "mimetype": "text/x-python",
   "name": "python",
   "nbconvert_exporter": "python",
   "pygments_lexer": "ipython3",
   "version": "3.7.5"
  }
 },
 "nbformat": 4,
 "nbformat_minor": 4
}
