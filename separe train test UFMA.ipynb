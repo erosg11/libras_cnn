{
 "cells": [
  {
   "cell_type": "code",
   "execution_count": 1,
   "metadata": {},
   "outputs": [],
   "source": [
    "import numpy as np"
   ]
  },
  {
   "cell_type": "code",
   "execution_count": 2,
   "metadata": {},
   "outputs": [],
   "source": [
    "y_ufma = np.load('raw_y_UFMA.npy')"
   ]
  },
  {
   "cell_type": "code",
   "execution_count": 3,
   "metadata": {},
   "outputs": [
    {
     "data": {
      "text/plain": [
       "array([ 0,  0,  0, ..., 60, 60, 60])"
      ]
     },
     "execution_count": 3,
     "metadata": {},
     "output_type": "execute_result"
    }
   ],
   "source": [
    "y_ufma"
   ]
  },
  {
   "cell_type": "code",
   "execution_count": 8,
   "metadata": {},
   "outputs": [],
   "source": [
    "zeros = np.where(y_ufma == 0)"
   ]
  },
  {
   "cell_type": "code",
   "execution_count": 9,
   "metadata": {},
   "outputs": [
    {
     "data": {
      "text/plain": [
       "(array([   0,    1,    2,    3,    4,    5,    6,    7,    8,    9,   10,\n",
       "          11,   12,   13,   14,   15,   16,   17,   18,   19,   20,   21,\n",
       "          22,   23,   24,   25,   26,   27,   28,   29,   30,   31,   32,\n",
       "          33,   34,   35,   36,   37,   38,   39,   40,   41,   42,   43,\n",
       "          44,   45,   46,   47,   48,   49,   50,   51,   52,   53,   54,\n",
       "          55,   56,   57,   58,   59,   60,   61,   62,   63,   64,   65,\n",
       "          66,   67,   68,   69,   70,   71,   72,   73,   74,   75,   76,\n",
       "          77,   78,   79,   80,   81,   82,   83,   84,   85,   86,   87,\n",
       "          88,   89,   90,   91,   92,   93,   94,   95,   96,   97,   98,\n",
       "          99, 6100, 6101, 6102, 6103, 6104, 6105, 6106, 6107, 6108, 6109,\n",
       "        6110, 6111, 6112, 6113, 6114, 6115, 6116, 6117, 6118, 6119, 6120,\n",
       "        6121, 6122, 6123, 6124, 6125, 6126, 6127, 6128, 6129, 6130, 6131,\n",
       "        6132, 6133, 6134, 6135, 6136, 6137, 6138, 6139, 6140, 6141, 6142,\n",
       "        6143, 6144, 6145, 6146, 6147, 6148, 6149, 6150, 6151, 6152, 6153,\n",
       "        6154, 6155, 6156, 6157, 6158, 6159, 6160, 6161, 6162, 6163, 6164,\n",
       "        6165, 6166, 6167, 6168, 6169, 6170, 6171, 6172, 6173, 6174, 6175,\n",
       "        6176, 6177, 6178, 6179, 6180, 6181, 6182, 6183, 6184, 6185, 6186,\n",
       "        6187, 6188, 6189, 6190, 6191, 6192, 6193, 6194, 6195, 6196, 6197,\n",
       "        6198, 6199], dtype=int64),)"
      ]
     },
     "execution_count": 9,
     "metadata": {},
     "output_type": "execute_result"
    }
   ],
   "source": [
    "zeros"
   ]
  },
  {
   "cell_type": "code",
   "execution_count": null,
   "metadata": {},
   "outputs": [],
   "source": []
  }
 ],
 "metadata": {
  "kernelspec": {
   "display_name": "Python 3",
   "language": "python",
   "name": "python3"
  },
  "language_info": {
   "codemirror_mode": {
    "name": "ipython",
    "version": 3
   },
   "file_extension": ".py",
   "mimetype": "text/x-python",
   "name": "python",
   "nbconvert_exporter": "python",
   "pygments_lexer": "ipython3",
   "version": "3.7.5"
  }
 },
 "nbformat": 4,
 "nbformat_minor": 4
}
