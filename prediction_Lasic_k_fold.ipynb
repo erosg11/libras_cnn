{
 "cells": [
  {
   "cell_type": "code",
   "execution_count": 1,
   "metadata": {},
   "outputs": [
    {
     "name": "stderr",
     "output_type": "stream",
     "text": [
      "Using TensorFlow backend.\n"
     ]
    }
   ],
   "source": [
    "import numpy as np\n",
    "import pandas as pd\n",
    "from keras.applications.vgg19 import VGG19\n",
    "from keras.applications.resnet import ResNet50\n",
    "from keras.applications.inception_v3 import InceptionV3\n",
    "from glob import glob\n",
    "from keras.layers import Dense, Dropout, Flatten, Conv2D, MaxPool2D, GlobalAveragePooling2D, MaxPooling2D\n",
    "from keras.models import Sequential, Model, load_model\n",
    "from os.path import join\n",
    "from json import dump, load"
   ]
  },
  {
   "cell_type": "code",
   "execution_count": 2,
   "metadata": {},
   "outputs": [
    {
     "data": {
      "text/plain": [
       "['raw_X_Lasic.npy',\n",
       " 'raw_X_Lasic.npy',\n",
       " 'raw_X_Lasic_180x180.npy',\n",
       " 'raw_X_Lasic_120x120.npy']"
      ]
     },
     "execution_count": 2,
     "metadata": {},
     "output_type": "execute_result"
    }
   ],
   "source": [
    "X_files = ['raw_X_Lasic.npy'] * 2 + ['raw_X_Lasic_180x180.npy', 'raw_X_Lasic_120x120.npy']\n",
    "y_files = ['raw_y_Lasic.npy'] * 2 + ['raw_y_Lasic_180x180.npy', 'raw_y_Lasic_120x120.npy']\n",
    "X_files"
   ]
  },
  {
   "cell_type": "code",
   "execution_count": 3,
   "metadata": {},
   "outputs": [],
   "source": [
    "def gen_lenet(img_height, img_width, num_classes):\n",
    "    model = Sequential()\n",
    "    model.add(Conv2D(32, (5, 5), activation='relu', input_shape=(img_height, img_width, 1))) \n",
    "    model.add(MaxPooling2D((2, 2)))\n",
    "    model.add(Conv2D(64, (3, 3), activation='relu')) \n",
    "    model.add(MaxPooling2D((2, 2)))\n",
    "    model.add(Conv2D(64, (3, 3), activation='relu'))\n",
    "    model.add(MaxPooling2D((2, 2)))\n",
    "    model.add(Conv2D(64, (3, 3), activation='relu'))\n",
    "    model.add(MaxPooling2D((2, 2)))\n",
    "    model.add(Flatten())\n",
    "    model.add(Dense(128, activation='relu'))\n",
    "    model.add(Dropout(0.1))\n",
    "    model.add(Dense(128, activation='relu'))\n",
    "    model.add(Dropout(0.1))\n",
    "    model.add(Dense(num_classes, activation='softmax'))\n",
    "    return model\n",
    "\n",
    "def gen_vgg(img_height, img_width, num_classes):\n",
    "    base_model = VGG19(weights=None, include_top=False, input_shape= (img_height,img_width,1))\n",
    "\n",
    "    layer_dict = dict([(layer.name, layer) for layer in base_model.layers])\n",
    "    x = layer_dict['block2_pool'].output\n",
    "    x = Conv2D(filters=64, kernel_size=(3, 3), activation='relu')(x)\n",
    "    x = MaxPooling2D(pool_size=(2, 2))(x)\n",
    "    x = Flatten()(x)\n",
    "    x = Dense(256, activation= 'relu')(x)\n",
    "    x = Dense(256, activation= 'relu')(x)\n",
    "    x = Dense(256, activation= 'relu')(x)\n",
    "    predictions = Dense(num_classes, activation= 'softmax')(x)\n",
    "    \n",
    "    return Model(inputs = base_model.input, outputs = predictions)\n",
    "\n",
    "def gen_inception(img_height, img_width, num_classes):\n",
    "    base_model = InceptionV3(weights=None, include_top=False, input_shape=(img_height, img_width, 1))\n",
    "\n",
    "    layer_dict = dict([(layer.name, layer) for layer in base_model.layers])\n",
    "    x = layer_dict['mixed10'].output\n",
    "    x = Conv2D(filters=64, kernel_size=(3, 3), activation='relu')(x)\n",
    "    x = MaxPooling2D(pool_size=(2, 2))(x)\n",
    "    x = Flatten()(x)\n",
    "    x = Dense(256, activation='relu')(x)\n",
    "    x = Dense(256, activation='relu')(x)\n",
    "    x = Dense(256, activation='relu')(x)\n",
    "    predictions = Dense(num_classes, activation='softmax')(x)\n",
    "\n",
    "    return Model(inputs=base_model.input, outputs=predictions)\n",
    "\n",
    "def gen_resnet(img_height, img_width, num_classes):\n",
    "    base_model = ResNet50(weights=None, include_top=False, input_shape= (img_height,img_width,1))\n",
    "\n",
    "    layer_dict = dict([(layer.name, layer) for layer in base_model.layers])\n",
    "    x = base_model.layers[-1].output\n",
    "    x = Conv2D(filters=64, kernel_size=(3, 3), activation='relu')(x)\n",
    "    x = MaxPooling2D(pool_size=(2, 2))(x)\n",
    "    x = Flatten()(x)\n",
    "    x = Dense(256, activation='relu')(x)\n",
    "    x = Dense(256, activation='relu')(x)\n",
    "    x = Dense(256, activation='relu')(x)\n",
    "    predictions = Dense(num_classes, activation= 'softmax')(x)\n",
    "    \n",
    "    return Model(inputs = base_model.input, outputs = predictions)\n",
    "\n",
    "models = [gen_lenet, gen_vgg, gen_inception, gen_resnet]\n",
    "models_names = ['LeNet', 'VGG19', 'InceptionV3', 'ResNet50']"
   ]
  },
  {
   "cell_type": "code",
   "execution_count": null,
   "metadata": {},
   "outputs": [
    {
     "name": "stdout",
     "output_type": "stream",
     "text": [
      "In file LeNet fold 1: 0.9895833134651184\n",
      "In file LeNet fold 2: 0.9958333373069763\n",
      "In file LeNet fold 3: 0.9979166388511658\n",
      "In file LeNet fold 4: 0.9916666746139526\n",
      "In file LeNet fold 5: 1.0\n",
      "In file LeNet fold 6: 0.9979166388511658\n",
      "In file LeNet fold 7: 0.9937499761581421\n",
      "In file LeNet fold 8: 0.9958333373069763\n",
      "In file LeNet fold 9: 0.9979166388511658\n",
      "In file LeNet fold 10: 0.9979166388511658\n",
      "In file VGG19 fold 1: 0.9895833134651184\n",
      "In file VGG19 fold 2: 0.9979166388511658\n",
      "In file VGG19 fold 3: 0.9937499761581421\n",
      "In file VGG19 fold 4: 0.9937499761581421\n",
      "In file VGG19 fold 5: 1.0\n",
      "In file VGG19 fold 6: 1.0\n",
      "In file VGG19 fold 7: 0.9937499761581421\n",
      "In file VGG19 fold 8: 0.9958333373069763\n",
      "In file VGG19 fold 9: 0.9979166388511658\n",
      "In file VGG19 fold 10: 0.9958333373069763\n",
      "In file InceptionV3 fold 1: 0.9979166388511658\n",
      "In file InceptionV3 fold 2: 0.9520833492279053\n",
      "InceptionV3 fold 3: 0.21458333730697632\n"
     ]
    }
   ],
   "source": [
    "train_files = sorted(glob('Lasic_K_Fold/train_Lasic*'))\n",
    "test_files = sorted(glob('Lasic_K_Fold/test_Lasic*'))\n",
    "with open(\"results_lasic\") as fp:\n",
    "            results = load(fp)\n",
    "for name, model_gen, X_file, y_file in zip(models_names, models, X_files, y_files):\n",
    "    X = np.load(X_file)\n",
    "    y = np.load(y_file)\n",
    "    img_size = X.shape[1], X.shape[2]\n",
    "    num_classes = len(np.unique(y))\n",
    "    results.setdefault(name, {})\n",
    "    for i, (train_file, test_file) in enumerate(zip(train_files, test_files), 1):\n",
    "        i = str(i)\n",
    "        if i in results.get(name, {}):\n",
    "            print(f'In file {name} fold {i}:', results[name][i])\n",
    "            continue\n",
    "        train = np.load(train_file)\n",
    "        test = np.load(test_file)\n",
    "        model = model_gen(*img_size, num_classes)\n",
    "        model.compile(optimizer='adam', # Optimization routine, which tells the computer how to adjust the parameter values to minimize the loss function.\n",
    "              loss='sparse_categorical_crossentropy', # Loss function, which tells us how bad our predictions are.\n",
    "              metrics=['accuracy']) # List of metrics to be evaluated by the model during training and testing.\n",
    "        model.fit(X[train], y[train], epochs=100, batch_size=64, verbose=0)\n",
    "        test_loss, test_acc = model.evaluate(X[test], y[test], verbose=0)\n",
    "        print(f'{name} fold {i}:', test_acc)\n",
    "        results[name][i] = test_acc\n",
    "        with open(\"results_lasic\", 'w') as fp:\n",
    "            dump(results, fp)"
   ]
  },
  {
   "cell_type": "code",
   "execution_count": null,
   "metadata": {},
   "outputs": [],
   "source": []
  }
 ],
 "metadata": {
  "kernelspec": {
   "display_name": "Python 3",
   "language": "python",
   "name": "python3"
  },
  "language_info": {
   "codemirror_mode": {
    "name": "ipython",
    "version": 3
   },
   "file_extension": ".py",
   "mimetype": "text/x-python",
   "name": "python",
   "nbconvert_exporter": "python",
   "pygments_lexer": "ipython3",
   "version": "3.7.5"
  }
 },
 "nbformat": 4,
 "nbformat_minor": 4
}
